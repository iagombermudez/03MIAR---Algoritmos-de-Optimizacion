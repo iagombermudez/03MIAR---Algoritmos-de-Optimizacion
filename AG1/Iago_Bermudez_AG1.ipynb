{
  "nbformat": 4,
  "nbformat_minor": 0,
  "metadata": {
    "colab": {
      "provenance": [],
      "collapsed_sections": [
        "EbRzR6LplJto",
        "uDiNUtDRJ0rH",
        "4ZTf0yiT4Wtl",
        "_fmdyUVvSm6n",
        "NF-TpeJV4wLj",
        "Yor5PhvwUoah",
        "v_p8PISTcCfK",
        "3FtoJZ119InL"
      ],
      "authorship_tag": "ABX9TyOPATczqGulMVcjJFv3AEhc",
      "include_colab_link": true
    },
    "kernelspec": {
      "name": "python3",
      "display_name": "Python 3"
    },
    "language_info": {
      "name": "python"
    }
  },
  "cells": [
    {
      "cell_type": "markdown",
      "metadata": {
        "id": "view-in-github",
        "colab_type": "text"
      },
      "source": [
        "<a href=\"https://colab.research.google.com/github/iagombermudez/03MIAR---Algoritmos-de-Optimizacion/blob/main/AG1/Iago_Bermudez_AG1.ipynb\" target=\"_parent\"><img src=\"https://colab.research.google.com/assets/colab-badge.svg\" alt=\"Open In Colab\"/></a>"
      ]
    },
    {
      "cell_type": "markdown",
      "source": [
        "\n",
        "Actividad Guiada 1 de Algoritmos de Optimizacion\n",
        "\n",
        "Nombre: Iago Bermúdez Milleiro\n",
        "\n",
        "https://colab.research.google.com/drive/1RQIy-MxKM5zPr_xIpcYW2bRBDf4wtK80\n",
        "\n",
        "https://github.com/iagombermudez/03MIAR---Algoritmos-de-Optimizacion"
      ],
      "metadata": {
        "id": "OyqLPwa1kXer"
      }
    },
    {
      "cell_type": "markdown",
      "source": [
        "## Torres de Hanoi - Divide y vencerás"
      ],
      "metadata": {
        "id": "EbRzR6LplJto"
      }
    },
    {
      "cell_type": "markdown",
      "source": [
        "### Implementación propia"
      ],
      "metadata": {
        "id": "uDiNUtDRJ0rH"
      }
    },
    {
      "cell_type": "markdown",
      "source": [
        "He decidido llevar a cabo mi propia implementación para poder comprender mejor el problema. La implementación es muy similar a la realizada en clase, con la diferencia de que el pivote no se calcula en la función, si no que se define explicitamente al llamar a la función *hanoi_with_aux*."
      ],
      "metadata": {
        "id": "vLQMGBd_J3fD"
      }
    },
    {
      "cell_type": "code",
      "source": [
        "def hanoi_with_aux(N, A, B, C):\n",
        "  if N==1:\n",
        "    print(f\"Move disk from {A} to {C}\")\n",
        "    return\n",
        "  hanoi_with_aux(N-1, A, C, B)\n",
        "  print(f\"Move disk from {A} to {C}\")\n",
        "  hanoi_with_aux(N-1, B, A, C)\n",
        "\n",
        "hanoi_with_aux(3, 'A', 'B', 'C')"
      ],
      "metadata": {
        "colab": {
          "base_uri": "https://localhost:8080/"
        },
        "id": "h0RivIhFPnHu",
        "outputId": "3240ee41-a325-404a-da17-cfc6b8938f7a"
      },
      "execution_count": 45,
      "outputs": [
        {
          "output_type": "stream",
          "name": "stdout",
          "text": [
            "Move disk from A to C\n",
            "Move disk from A to B\n",
            "Move disk from C to B\n",
            "Move disk from A to C\n",
            "Move disk from B to A\n",
            "Move disk from B to C\n",
            "Move disk from A to C\n"
          ]
        }
      ]
    },
    {
      "cell_type": "markdown",
      "source": [
        "### Implementación de la clase guiada"
      ],
      "metadata": {
        "id": "4ZTf0yiT4Wtl"
      }
    },
    {
      "cell_type": "code",
      "execution_count": 46,
      "metadata": {
        "colab": {
          "base_uri": "https://localhost:8080/"
        },
        "id": "n7jNHqBEkVLr",
        "outputId": "1810fd4b-3d3a-4c52-b067-64b3fd2b1b17"
      },
      "outputs": [
        {
          "output_type": "stream",
          "name": "stdout",
          "text": [
            "Move disk from 1 to 3\n",
            "Move disk from 1 to 2\n",
            "Move disk from 3 to 2\n",
            "Move disk from 1 to 3\n",
            "Move disk from 2 to 1\n",
            "Move disk from 2 to 3\n",
            "Move disk from 1 to 3\n"
          ]
        }
      ],
      "source": [
        "def hanoi(N, A, C):\n",
        "  if N == 1:\n",
        "    print(f\"Move disk from {A} to {C}\")\n",
        "    return\n",
        "  hanoi(N-1, A, 6-A-C)\n",
        "  print(f\"Move disk from {A} to {C}\")\n",
        "  hanoi(N-1, 6-A-C, C)\n",
        "\n",
        "hanoi(3, 1, 3)"
      ]
    },
    {
      "cell_type": "markdown",
      "source": [
        "## Cambio de monedas - Técnica voraz"
      ],
      "metadata": {
        "id": "_fmdyUVvSm6n"
      }
    },
    {
      "cell_type": "markdown",
      "source": [
        "### Implementación de la clase guiada"
      ],
      "metadata": {
        "id": "ynlxdPPW-LmQ"
      }
    },
    {
      "cell_type": "code",
      "source": [
        "#Cambio de monedas - Técnica voraz\n",
        "################################################################################\n",
        "SISTEMA = [11, 5 ,  1  ]\n",
        "################################################################\n",
        "def cambio_monedas(CANTIDAD,SISTEMA):\n",
        "#....\n",
        "  SOLUCION = [0]*len(SISTEMA)\n",
        "  ValorAcumulado = 0\n",
        "\n",
        "  for i,valor in enumerate(SISTEMA):\n",
        "    monedas = (CANTIDAD-ValorAcumulado)//valor\n",
        "    SOLUCION[i] = monedas\n",
        "    ValorAcumulado = ValorAcumulado + monedas*valor\n",
        "\n",
        "    if CANTIDAD == ValorAcumulado:\n",
        "      return SOLUCION\n",
        "\n",
        "  print(\"No es posible encontrar solucion\")\n",
        "\n",
        "cambio_monedas(15,SISTEMA)\n",
        "\n",
        "\n",
        "################################################################"
      ],
      "metadata": {
        "colab": {
          "base_uri": "https://localhost:8080/"
        },
        "id": "JiZQGlQ6L6p7",
        "outputId": "4f9a4d50-3c9f-4b6b-da57-8c69c4c8adc6"
      },
      "execution_count": 47,
      "outputs": [
        {
          "output_type": "execute_result",
          "data": {
            "text/plain": [
              "[1, 0, 4]"
            ]
          },
          "metadata": {},
          "execution_count": 47
        }
      ]
    },
    {
      "cell_type": "markdown",
      "source": [
        "### Implementación propia"
      ],
      "metadata": {
        "id": "AYkzI2MU-P92"
      }
    },
    {
      "cell_type": "markdown",
      "source": [
        "La siguiente implementación sigue de forma fiel el esquema general que hemos visto en clase para los algoritmos voraces. A diferencia de la implementación anterior, también se ha añadido una pequeña mejora, ya que devuelve un diccionario con el valor de la moneda como clave y el número de monedas utilizadas como valor. De esta forma, resulta más sencillo ver cuantas monedas se han utilizado de cada tipo."
      ],
      "metadata": {
        "id": "ofx6Mf4xKuUM"
      }
    },
    {
      "cell_type": "code",
      "source": [
        "def selection_function(value, current_coin):\n",
        "  coin_ammount = value // current_coin\n",
        "  return {current_coin: coin_ammount} if coin_ammount > 0 else {}"
      ],
      "metadata": {
        "id": "II9LEAo7Ss8a"
      },
      "execution_count": 48,
      "outputs": []
    },
    {
      "cell_type": "code",
      "source": [
        "def feasibility_function(total_coins):\n",
        "  return sum(coin * ammount for coin, ammount in total_coins.items())"
      ],
      "metadata": {
        "id": "SXkjIqbHS6lw"
      },
      "execution_count": 49,
      "outputs": []
    },
    {
      "cell_type": "code",
      "source": [
        "def goal_function(current, total):\n",
        "  return feasibility_function(current) == total"
      ],
      "metadata": {
        "id": "2N6Vs9TVS8eh"
      },
      "execution_count": 50,
      "outputs": []
    },
    {
      "cell_type": "code",
      "source": [
        "def coin_returner(original_ammount, available_coins):\n",
        "  available_coins.sort()\n",
        "  coins = {}\n",
        "  current_ammount = original_ammount\n",
        "  while not goal_function(coins, original_ammount) and len(available_coins) > 0:\n",
        "    next_coin = available_coins.pop()\n",
        "    new_coins = selection_function(current_ammount, next_coin)\n",
        "    value_so_far = feasibility_function({**coins, **new_coins})\n",
        "    if value_so_far <= original_ammount:\n",
        "      coins.update(new_coins)\n",
        "      current_ammount = original_ammount - value_so_far\n",
        "  if goal_function(coins, original_ammount):\n",
        "    return coins\n",
        "  else:\n",
        "    return 'A solution was not found'"
      ],
      "metadata": {
        "id": "dIS0tEVaS-QN"
      },
      "execution_count": 51,
      "outputs": []
    },
    {
      "cell_type": "code",
      "source": [
        "coin_returner(53, [25, 10, 5, 1])"
      ],
      "metadata": {
        "colab": {
          "base_uri": "https://localhost:8080/"
        },
        "id": "jfZg2GrkTPCI",
        "outputId": "cf9a6c22-2f75-4fbf-87f7-bb7d40338a0c"
      },
      "execution_count": 52,
      "outputs": [
        {
          "output_type": "execute_result",
          "data": {
            "text/plain": [
              "{25: 2, 1: 3}"
            ]
          },
          "metadata": {},
          "execution_count": 52
        }
      ]
    },
    {
      "cell_type": "markdown",
      "source": [
        "## Problema de las 8 reinas"
      ],
      "metadata": {
        "id": "NF-TpeJV4wLj"
      }
    },
    {
      "cell_type": "code",
      "source": [
        "def es_prometedora(solucion,etapa):\n",
        "  for i in range(etapa+1):\n",
        "    if solucion.count(solucion[i]) > 1:\n",
        "      return False\n",
        "\n",
        "    for j in range(i+1, etapa +1 ):\n",
        "      if abs(i-j) == abs(solucion[i]-solucion[j]) : return False\n",
        "  return True\n",
        "\n",
        "def reinas(N, solucion=[], etapa=0):\n",
        "  if len(solucion) == 0:\n",
        "    solucion = [0 for i in range(N)]\n",
        "\n",
        "  for i in range(1, N+1):\n",
        "    solucion[etapa] = i\n",
        "    if es_prometedora(solucion, etapa):\n",
        "      if etapa == N-1:\n",
        "        print(solucion)\n",
        "      else:\n",
        "        reinas(N, solucion, etapa+1)\n",
        "  solucion[etapa] = 0\n",
        "\n",
        "reinas(8)"
      ],
      "metadata": {
        "id": "DYkU24V04yLC",
        "colab": {
          "base_uri": "https://localhost:8080/"
        },
        "outputId": "df6837a5-23cb-47c6-e832-3a4bb656bcef"
      },
      "execution_count": 53,
      "outputs": [
        {
          "output_type": "stream",
          "name": "stdout",
          "text": [
            "[1, 5, 8, 6, 3, 7, 2, 4]\n",
            "[1, 6, 8, 3, 7, 4, 2, 5]\n",
            "[1, 7, 4, 6, 8, 2, 5, 3]\n",
            "[1, 7, 5, 8, 2, 4, 6, 3]\n",
            "[2, 4, 6, 8, 3, 1, 7, 5]\n",
            "[2, 5, 7, 1, 3, 8, 6, 4]\n",
            "[2, 5, 7, 4, 1, 8, 6, 3]\n",
            "[2, 6, 1, 7, 4, 8, 3, 5]\n",
            "[2, 6, 8, 3, 1, 4, 7, 5]\n",
            "[2, 7, 3, 6, 8, 5, 1, 4]\n",
            "[2, 7, 5, 8, 1, 4, 6, 3]\n",
            "[2, 8, 6, 1, 3, 5, 7, 4]\n",
            "[3, 1, 7, 5, 8, 2, 4, 6]\n",
            "[3, 5, 2, 8, 1, 7, 4, 6]\n",
            "[3, 5, 2, 8, 6, 4, 7, 1]\n",
            "[3, 5, 7, 1, 4, 2, 8, 6]\n",
            "[3, 5, 8, 4, 1, 7, 2, 6]\n",
            "[3, 6, 2, 5, 8, 1, 7, 4]\n",
            "[3, 6, 2, 7, 1, 4, 8, 5]\n",
            "[3, 6, 2, 7, 5, 1, 8, 4]\n",
            "[3, 6, 4, 1, 8, 5, 7, 2]\n",
            "[3, 6, 4, 2, 8, 5, 7, 1]\n",
            "[3, 6, 8, 1, 4, 7, 5, 2]\n",
            "[3, 6, 8, 1, 5, 7, 2, 4]\n",
            "[3, 6, 8, 2, 4, 1, 7, 5]\n",
            "[3, 7, 2, 8, 5, 1, 4, 6]\n",
            "[3, 7, 2, 8, 6, 4, 1, 5]\n",
            "[3, 8, 4, 7, 1, 6, 2, 5]\n",
            "[4, 1, 5, 8, 2, 7, 3, 6]\n",
            "[4, 1, 5, 8, 6, 3, 7, 2]\n",
            "[4, 2, 5, 8, 6, 1, 3, 7]\n",
            "[4, 2, 7, 3, 6, 8, 1, 5]\n",
            "[4, 2, 7, 3, 6, 8, 5, 1]\n",
            "[4, 2, 7, 5, 1, 8, 6, 3]\n",
            "[4, 2, 8, 5, 7, 1, 3, 6]\n",
            "[4, 2, 8, 6, 1, 3, 5, 7]\n",
            "[4, 6, 1, 5, 2, 8, 3, 7]\n",
            "[4, 6, 8, 2, 7, 1, 3, 5]\n",
            "[4, 6, 8, 3, 1, 7, 5, 2]\n",
            "[4, 7, 1, 8, 5, 2, 6, 3]\n",
            "[4, 7, 3, 8, 2, 5, 1, 6]\n",
            "[4, 7, 5, 2, 6, 1, 3, 8]\n",
            "[4, 7, 5, 3, 1, 6, 8, 2]\n",
            "[4, 8, 1, 3, 6, 2, 7, 5]\n",
            "[4, 8, 1, 5, 7, 2, 6, 3]\n",
            "[4, 8, 5, 3, 1, 7, 2, 6]\n",
            "[5, 1, 4, 6, 8, 2, 7, 3]\n",
            "[5, 1, 8, 4, 2, 7, 3, 6]\n",
            "[5, 1, 8, 6, 3, 7, 2, 4]\n",
            "[5, 2, 4, 6, 8, 3, 1, 7]\n",
            "[5, 2, 4, 7, 3, 8, 6, 1]\n",
            "[5, 2, 6, 1, 7, 4, 8, 3]\n",
            "[5, 2, 8, 1, 4, 7, 3, 6]\n",
            "[5, 3, 1, 6, 8, 2, 4, 7]\n",
            "[5, 3, 1, 7, 2, 8, 6, 4]\n",
            "[5, 3, 8, 4, 7, 1, 6, 2]\n",
            "[5, 7, 1, 3, 8, 6, 4, 2]\n",
            "[5, 7, 1, 4, 2, 8, 6, 3]\n",
            "[5, 7, 2, 4, 8, 1, 3, 6]\n",
            "[5, 7, 2, 6, 3, 1, 4, 8]\n",
            "[5, 7, 2, 6, 3, 1, 8, 4]\n",
            "[5, 7, 4, 1, 3, 8, 6, 2]\n",
            "[5, 8, 4, 1, 3, 6, 2, 7]\n",
            "[5, 8, 4, 1, 7, 2, 6, 3]\n",
            "[6, 1, 5, 2, 8, 3, 7, 4]\n",
            "[6, 2, 7, 1, 3, 5, 8, 4]\n",
            "[6, 2, 7, 1, 4, 8, 5, 3]\n",
            "[6, 3, 1, 7, 5, 8, 2, 4]\n",
            "[6, 3, 1, 8, 4, 2, 7, 5]\n",
            "[6, 3, 1, 8, 5, 2, 4, 7]\n",
            "[6, 3, 5, 7, 1, 4, 2, 8]\n",
            "[6, 3, 5, 8, 1, 4, 2, 7]\n",
            "[6, 3, 7, 2, 4, 8, 1, 5]\n",
            "[6, 3, 7, 2, 8, 5, 1, 4]\n",
            "[6, 3, 7, 4, 1, 8, 2, 5]\n",
            "[6, 4, 1, 5, 8, 2, 7, 3]\n",
            "[6, 4, 2, 8, 5, 7, 1, 3]\n",
            "[6, 4, 7, 1, 3, 5, 2, 8]\n",
            "[6, 4, 7, 1, 8, 2, 5, 3]\n",
            "[6, 8, 2, 4, 1, 7, 5, 3]\n",
            "[7, 1, 3, 8, 6, 4, 2, 5]\n",
            "[7, 2, 4, 1, 8, 5, 3, 6]\n",
            "[7, 2, 6, 3, 1, 4, 8, 5]\n",
            "[7, 3, 1, 6, 8, 5, 2, 4]\n",
            "[7, 3, 8, 2, 5, 1, 6, 4]\n",
            "[7, 4, 2, 5, 8, 1, 3, 6]\n",
            "[7, 4, 2, 8, 6, 1, 3, 5]\n",
            "[7, 5, 3, 1, 6, 8, 2, 4]\n",
            "[8, 2, 4, 1, 7, 5, 3, 6]\n",
            "[8, 2, 5, 3, 1, 7, 4, 6]\n",
            "[8, 3, 1, 6, 2, 5, 7, 4]\n",
            "[8, 4, 1, 3, 6, 2, 7, 5]\n"
          ]
        }
      ]
    },
    {
      "cell_type": "markdown",
      "source": [
        "## Encontrar los 2 puntos más cercanos"
      ],
      "metadata": {
        "id": "KJH9f_1gTQtD"
      }
    },
    {
      "cell_type": "markdown",
      "source": [
        "- Suponer en 1D, o sea, una lista de números: [3403, 4537, 9089, 9746, 7259, ….\n",
        "- Primer intento: Fuerza bruta\n",
        "- Calcular la complejidad. ¿Se puede mejorar?\n",
        "- Segundo intento. Aplicar Divide y Vencerás\n",
        "- Calcular la complejidad. ¿Se puede mejorar?\n",
        "- Extender el algoritmo a 2D: [(1122, 6175), (135, 4076), (7296, 2741)…\n",
        "- Extender el algoritmo a 3D."
      ],
      "metadata": {
        "id": "XAvowOfJUf-g"
      }
    },
    {
      "cell_type": "markdown",
      "source": [
        "### Fuerza bruta"
      ],
      "metadata": {
        "id": "Yor5PhvwUoah"
      }
    },
    {
      "cell_type": "code",
      "source": [
        "import math"
      ],
      "metadata": {
        "id": "wZmjBk_dVrWn"
      },
      "execution_count": 54,
      "outputs": []
    },
    {
      "cell_type": "code",
      "source": [
        "def find_closest_points_bf(points):\n",
        "  closest_points = None\n",
        "  closest_points_distance = math.inf\n",
        "\n",
        "  for i in range(len(points)-1):\n",
        "    min_value = math.inf\n",
        "    min_distance_point_index = -1\n",
        "    for j in range(i+1, len(points)):\n",
        "      distance = abs(points[i] - points[j])\n",
        "      if  distance < min_value and distance < closest_points_distance:\n",
        "        min_value = distance\n",
        "        min_distance_point_index = j\n",
        "\n",
        "    if closest_points_distance > min_value:\n",
        "      closest_points_distance = min_value\n",
        "      closest_points = (points[i], points[min_distance_point_index])\n",
        "\n",
        "  return closest_points\n",
        "\n",
        "find_closest_points_bf([3403, 4537, 9089, 9746, 7259])"
      ],
      "metadata": {
        "colab": {
          "base_uri": "https://localhost:8080/"
        },
        "id": "53TlYw-LUf2A",
        "outputId": "298819fb-eaef-4217-d376-98f5b2955859"
      },
      "execution_count": 55,
      "outputs": [
        {
          "output_type": "execute_result",
          "data": {
            "text/plain": [
              "(9089, 9746)"
            ]
          },
          "metadata": {},
          "execution_count": 55
        }
      ]
    },
    {
      "cell_type": "markdown",
      "source": [
        "Podemos observar que en reseolviendo el problema utilizando fuerza bruta obtenemos una complejidad de O($n^{2}$). Esto se debe a que para poder comprobar la distancia entre todos los pares de puntos, debemos utilizar 2 bucles.\n",
        "\n",
        "Se podría explorar la posibilidad de mejorar el código para hacerlo más eficiente, pero por la naturaleza de los algoritmos de fuerza bruta, la complejidad del código se mantendrá en O($n^{2}$)\n"
      ],
      "metadata": {
        "id": "FoA5zC95X5u4"
      }
    },
    {
      "cell_type": "markdown",
      "source": [
        "### Utilizando ordenación"
      ],
      "metadata": {
        "id": "v_p8PISTcCfK"
      }
    },
    {
      "cell_type": "code",
      "source": [
        "def find_closest_points_1D(points):\n",
        "  # esta es la parte clave, ordenamos los puntos (complejidad n * log(n))\n",
        "  # ordenando los valores, solo deberemos comparar linealmente entre cada par de\n",
        "  # valores\n",
        "  points.sort()\n",
        "  return find_closest_points_helper(points)\n",
        "\n",
        "def find_closest_points_helper(points):\n",
        "  min_distance = math.inf\n",
        "  closest_points = ()\n",
        "  for n in range(len(points)-1):\n",
        "    dist = calc_distance(points[n], points[n+1])\n",
        "    if dist < min_distance:\n",
        "      min_distance = dist\n",
        "      closest_points = (points[n], points[n+1])\n",
        "  return (closest_points, min_distance)\n",
        "\n",
        "def calc_distance(a, b):\n",
        "  return abs(a - b)\n",
        "\n",
        "find_closest_points_1D([3403, 4537, 9089, 9746, 7259])"
      ],
      "metadata": {
        "colab": {
          "base_uri": "https://localhost:8080/"
        },
        "id": "QVLV3WqDcEBG",
        "outputId": "0abd76d2-cc7f-4eeb-a64d-8e779c541169"
      },
      "execution_count": 56,
      "outputs": [
        {
          "output_type": "execute_result",
          "data": {
            "text/plain": [
              "((9089, 9746), 657)"
            ]
          },
          "metadata": {},
          "execution_count": 56
        }
      ]
    },
    {
      "cell_type": "markdown",
      "source": [
        "Podemos observar que utilizando el método de divide y vencerás, la complejidad disminuye de O($n^{2}$) a O($n log(n)$).\n",
        "\n",
        "Para que este método funcione, es crucial ordenar primero la lista de puntos para que funcione correctamente. En Python, el método sort tiene una complejidad de O($n log(n)$)."
      ],
      "metadata": {
        "id": "o4Z4vSohnGd2"
      }
    },
    {
      "cell_type": "markdown",
      "source": [
        "### Divide y vencerás 2D"
      ],
      "metadata": {
        "id": "3FtoJZ119InL"
      }
    },
    {
      "cell_type": "code",
      "source": [
        "from operator import itemgetter\n",
        "\n",
        "def find_closest_points_helper(points):\n",
        "  min_value_x = min(points, key=itemgetter(0))[0]\n",
        "  max_value_x = max(points, key=itemgetter(0))[0]\n",
        "  line = (max_value_x + min_value_x) / 2\n",
        "\n",
        "  if len(points) == 1:\n",
        "    return (None, math.inf)\n",
        "\n",
        "  if len(points) == 2:\n",
        "    return (points, calc_distance(points))\n",
        "\n",
        "  L = [(x, y) for (x, y) in points if x <= line]\n",
        "  R = [(x, y) for (x, y) in points if x > line]\n",
        "  min_distance_L = find_closest_points_helper(L)\n",
        "  min_distance_R = find_closest_points_helper(R)\n",
        "  min_distance = min_distance_L if min_distance_L[1] < min_distance_R[1] else min_distance_R\n",
        "\n",
        "  points_close_to_line = [(x, y) for (x, y) in points if abs(x -line) <  min_distance[1]]\n",
        "  for i in range(len(points_close_to_line)):\n",
        "    # solo es necesario comprobar los siete siguientes puntos (están ordenados por el eje X)\n",
        "    for j in range(i + 1, min(len(points_close_to_line), i+8)):\n",
        "      distance = calc_distance([points_close_to_line[i], points_close_to_line[j]])\n",
        "      if distance < min_distance[1]:\n",
        "        min_distance = ([points_close_to_line[i], points_close_to_line[j]], distance)\n",
        "  return min_distance\n",
        "\n",
        "def calc_distance(points):\n",
        "  return math.dist(points[0], points[1])\n",
        "\n",
        "\n",
        "def find_closest_points_dc(points):\n",
        "  if len(points) == 0:\n",
        "    return 'No points were given'\n",
        "  points.sort(key=itemgetter(0))\n",
        "  return find_closest_points_helper(points)\n",
        "\n",
        "find_closest_points_dc([(1122, 6175), (135, 4076), (3715, 10), (3716, 11), (7296, 2741)])"
      ],
      "metadata": {
        "colab": {
          "base_uri": "https://localhost:8080/"
        },
        "id": "YcSTPYWAe2Ku",
        "outputId": "6a3b42ee-f326-4ee4-9695-225d8fa343c4"
      },
      "execution_count": 57,
      "outputs": [
        {
          "output_type": "execute_result",
          "data": {
            "text/plain": [
              "([(3715, 10), (3716, 11)], 1.4142135623730951)"
            ]
          },
          "metadata": {},
          "execution_count": 57
        }
      ]
    },
    {
      "cell_type": "markdown",
      "source": [
        "### Divide y vencerás 3D"
      ],
      "metadata": {
        "id": "M-yihSaozoIx"
      }
    },
    {
      "cell_type": "code",
      "source": [
        "from operator import itemgetter\n",
        "\n",
        "def find_closest_points_helper_3D(points):\n",
        "  min_value_x = min(points, key=itemgetter(0))[0]\n",
        "  max_value_x = max(points, key=itemgetter(0))[0]\n",
        "  line = (max_value_x + min_value_x) / 2\n",
        "\n",
        "  if len(points) == 1:\n",
        "    return (None, math.inf)\n",
        "\n",
        "  if len(points) == 2:\n",
        "    return (points, calc_distance(points))\n",
        "\n",
        "  L = [(x, y, z) for (x, y, z) in points if x <= line]\n",
        "  R = [(x, y, z) for (x, y, z) in points if x > line]\n",
        "  min_distance_L = find_closest_points_helper_3D(L)\n",
        "  min_distance_R = find_closest_points_helper_3D(R)\n",
        "  min_distance = min_distance_L if min_distance_L[1] < min_distance_R[1] else min_distance_R\n",
        "\n",
        "  points_close_to_line = [(x, y, z) for (x, y, z) in points if abs(x - line) <  min_distance[1]]\n",
        "  for i in range(len(points_close_to_line)):\n",
        "    for j in range(i + 1, len(points_close_to_line)):\n",
        "      distance = calc_distance([points_close_to_line[i], points_close_to_line[j]])\n",
        "      if distance < min_distance[1]:\n",
        "        min_distance = ([points_close_to_line[i], points_close_to_line[j]], distance)\n",
        "  return min_distance\n",
        "\n",
        "def calc_distance(points):\n",
        "  return math.dist(points[0], points[1])\n",
        "\n",
        "\n",
        "def find_closest_points_dc_3D(points):\n",
        "  if len(points) == 0:\n",
        "    return 'No points were given'\n",
        "  points.sort(key=itemgetter(0))\n",
        "  return find_closest_points_helper_3D(points)\n",
        "\n",
        "find_closest_points_dc_3D([(1122, 6175, 5927), (135, 4076, 1292), (3715, 10, 1111), (7296, 2741, 8839)])"
      ],
      "metadata": {
        "colab": {
          "base_uri": "https://localhost:8080/"
        },
        "id": "_YxFa7pnzqus",
        "outputId": "b2bee150-2625-42ea-d4b2-aeb668323a4c"
      },
      "execution_count": 59,
      "outputs": [
        {
          "output_type": "execute_result",
          "data": {
            "text/plain": [
              "([(135, 4076, 1292), (1122, 6175, 5927)], 5182.971637969863)"
            ]
          },
          "metadata": {},
          "execution_count": 59
        }
      ]
    },
    {
      "cell_type": "code",
      "source": [],
      "metadata": {
        "id": "lXp_WWTU1e41"
      },
      "execution_count": 58,
      "outputs": []
    }
  ]
}