{
  "nbformat": 4,
  "nbformat_minor": 0,
  "metadata": {
    "colab": {
      "provenance": [],
      "authorship_tag": "ABX9TyMWb57VhSthPFLUkGNoJWFt",
      "include_colab_link": true
    },
    "kernelspec": {
      "name": "python3",
      "display_name": "Python 3"
    },
    "language_info": {
      "name": "python"
    }
  },
  "cells": [
    {
      "cell_type": "markdown",
      "metadata": {
        "id": "view-in-github",
        "colab_type": "text"
      },
      "source": [
        "<a href=\"https://colab.research.google.com/github/iagombermudez/03MIAR---Algoritmos-de-Optimizacion/blob/main/Ordenaci%C3%B3n/Sorting_algorithms_(Rob_Edwards).ipynb\" target=\"_parent\"><img src=\"https://colab.research.google.com/assets/colab-badge.svg\" alt=\"Open In Colab\"/></a>"
      ]
    },
    {
      "cell_type": "markdown",
      "source": [
        "## Selection sort"
      ],
      "metadata": {
        "id": "YweCdp13T9xI"
      }
    },
    {
      "cell_type": "markdown",
      "source": [
        "This algorithm goes from index 0 to index n (n being length of list), swapping the element in index i for the smallest element to the right of it.\n",
        "- Complexity: O(n^2)\n",
        "- Inplace algorithm"
      ],
      "metadata": {
        "id": "OTXN-C3SUEci"
      }
    },
    {
      "cell_type": "code",
      "source": [
        "def selection_sort(elements):\n",
        "  print(\"Sorting starts\")\n",
        "  for i in range(len(elements)):\n",
        "    smallest_index = i\n",
        "    for j in range(i+1, len(elements)):\n",
        "      if(elements[j] < elements[smallest_index]):\n",
        "        smallest_index = j\n",
        "    (elements[i], elements[smallest_index]) = (elements[smallest_index], elements[i])\n",
        "    print(f\"Step {i}: {elements}\")\n",
        "  print(\"Sorting ends\")\n",
        "  return elements"
      ],
      "metadata": {
        "id": "GTlFVPNKT2Z_"
      },
      "execution_count": 8,
      "outputs": []
    },
    {
      "cell_type": "markdown",
      "source": [
        "### Test"
      ],
      "metadata": {
        "id": "H8jrgEfOW5XD"
      }
    },
    {
      "cell_type": "code",
      "source": [
        "elements = [10, 7, 8, 6, 3]\n",
        "print(selection_sort(elements))"
      ],
      "metadata": {
        "colab": {
          "base_uri": "https://localhost:8080/"
        },
        "id": "C5I2dP7QVJ8O",
        "outputId": "dfe72bf9-22c8-4bcb-db95-dd1c9251201a"
      },
      "execution_count": 9,
      "outputs": [
        {
          "output_type": "stream",
          "name": "stdout",
          "text": [
            "Sorting starts\n",
            "Step 0: [3, 7, 8, 6, 10]\n",
            "Step 1: [3, 6, 8, 7, 10]\n",
            "Step 2: [3, 6, 7, 8, 10]\n",
            "Step 3: [3, 6, 7, 8, 10]\n",
            "Step 4: [3, 6, 7, 8, 10]\n",
            "Sorting ends\n",
            "[3, 6, 7, 8, 10]\n"
          ]
        }
      ]
    }
  ]
}