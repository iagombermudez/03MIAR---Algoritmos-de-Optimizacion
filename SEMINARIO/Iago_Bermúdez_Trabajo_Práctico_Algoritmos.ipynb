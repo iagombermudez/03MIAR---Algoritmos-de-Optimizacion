{
  "nbformat": 4,
  "nbformat_minor": 0,
  "metadata": {
    "colab": {
      "provenance": [],
      "include_colab_link": true
    },
    "kernelspec": {
      "name": "python3",
      "display_name": "Python 3"
    }
  },
  "cells": [
    {
      "cell_type": "markdown",
      "metadata": {
        "id": "view-in-github",
        "colab_type": "text"
      },
      "source": [
        "<a href=\"https://colab.research.google.com/github/iagombermudez/03MIAR---Algoritmos-de-Optimizacion/blob/main/SEMINARIO/Iago_Berm%C3%BAdez_Trabajo_Pr%C3%A1ctico_Algoritmos.ipynb\" target=\"_parent\"><img src=\"https://colab.research.google.com/assets/colab-badge.svg\" alt=\"Open In Colab\"/></a>"
      ]
    },
    {
      "cell_type": "markdown",
      "metadata": {
        "id": "hVbXYX-RfPWh"
      },
      "source": [
        "# Algoritmos de optimización - Trabajo Práctico<br>\n",
        "Nombre y Apellidos: Iago Bermúdez Milleiro  <br>\n",
        "Url: https://github.com/.../03MAIR---Algoritmos-de-Optimizacion---/tree/master/TrabajoPractico<br>\n",
        "Google Colab: https://colab.research.google.com/drive/xxxxxxxxxxxxxxxx <br>\n",
        "Problema: Configuración de Tribunales\n",
        "\n",
        "Descripción del problema:\n",
        "\n",
        "Se precisa configurar tribunales de evaluación para un grupo de 15 alumnos que desean presentar su Trabajo Fin de Máster (TFM).<br/>\n",
        "- Cada tribunal está compuesto por tres profesores, cada uno desempeñando uno de los siguientes roles:\n",
        "  - Presidente\n",
        "  - Secretario\n",
        "  - Vocal\n",
        "\n",
        "- Los profesores han indicado su disponibilidad horaria para participar en los tribunales de 15h a 21h durante la semana del 15 al 19 de abril.\n",
        "- Hay 15 alumnos, por lo que se deben configurar 15 tribunales buscando la configuración más equilibrada posible en cuanto a la cantidad de tribunales asignados a cada profesor, es decir, evitando que un profesor tenga muchos tribunales y otros pocos.<br/>\n",
        "- Obviamente ningún profesor puede asistir a dos tribunales a la misma fecha/hora y no puede ser convocado a un tribunal al que no tiene disponibilidad.\n",
        "\n",
        "\n",
        "\n",
        "\n",
        "\n",
        "\n",
        "\n",
        "\n",
        "                                        "
      ]
    },
    {
      "cell_type": "markdown",
      "source": [
        "#Modelo\n",
        "- ¿Como represento el espacio de soluciones?\n",
        "- ¿Cual es la función objetivo?\n",
        "- ¿Como implemento las restricciones?"
      ],
      "metadata": {
        "id": "Sbo9IqQtpaHZ"
      }
    },
    {
      "cell_type": "markdown",
      "source": [
        "El espacio de soluciones se puede representar como el conjunto de todas las combinaciones de los miembros de los tribunales. Tratamos las combinaciones en vez de las permutaciones ya que el problem solo pide que asignemos de forma equilibrada la cantidad de tribunales a un profesor, sin importar el número de veces que es presidente, secreatrio o vocal. Por lo tanto un tribunal compuesto por $\\{RRD, QYV, MSB\\}$ es la misma solución que uno compuesto por $\\{QYV, MSB, RRD\\}$."
      ],
      "metadata": {
        "id": "67p_vszBposu"
      }
    },
    {
      "cell_type": "markdown",
      "source": [
        "La función objetivo es minimizar la diferencia de las asignaciones de los profesores a los tribunales. Por lo tanto, si tenemos que el conjunto de todas las asingaciones a cada profesor es $X$, entonces la función objetivo sería:<br/>\n",
        "$Min (Max(X) - Min(X))$<br/>"
      ],
      "metadata": {
        "id": "JzjFi1dKAFqx"
      }
    },
    {
      "cell_type": "markdown",
      "source": [
        "Teniendo en cuenta que<br/>\n",
        "$X_{i}$ es el conjunto de asignaciones a un profesor donde $X_{i,j} = 1$ indica la asistencia del profesor y $X_{i,j} = 0$ lo contrario\n",
        "<br/>$T_{t}$ es el conjunto de roles de un tribunal\n",
        "<br/>$A_{i}$ es el conjunto de disponibilidad del profesor, donde $A_{i,j} = 1$ indica la disponibilidad del profesor y $A_{i,j} = 0$ lo contrario\n",
        "<br/>$Q_i$ es el conjunto de roles de un profesor, donde las opciones pueden ser $P$,$S$ o $V$\n",
        "<br/>Las restricciones del problema serían:<br/>\n",
        "&emsp;$X_{i,j}\\neq1\\: si \\: A_{i,j}=0$<br/>\n",
        "&emsp;$1\\not\\to X_{i,j}\\: si\\: X_{i,j}=1$<br/>\n",
        "&emsp;$1\\not\\to X_{i,j}\\: si\\:|T_j|=3$<br/>\n",
        "&emsp;$X_{i,j}=1\\lor X_{i,j}=0$<br/>\n",
        "&emsp;$A_{i,j}=1\\lor A_{i,j}=0$<br/>\n",
        "&emsp;$|X_{i}|=|A_{i}|$<br/>\n",
        "&emsp;$|Q_{i}|>=1$<br/>\n",
        "&emsp;$|Q_{i}|<=3$<br/>\n",
        "&emsp;$1\\not\\to X_{i,j}\\: si\\: Q_{i}=\\{P\\} \\land P \\in T_j $<br/>\n",
        "&emsp;$1\\not\\to X_{i,j}\\: si\\: Q_{i}=\\{S\\} \\land S \\in T_j $<br/>\n",
        "&emsp;$1\\not\\to X_{i,j}\\: si\\: Q_{i}=\\{V\\} \\land V \\in T_j $<br/>\n",
        "&emsp;$1\\not\\to X_{i,j}\\: si\\: Q_{i}=\\{P,S\\} \\land P,S \\in T_j $<br/>\n",
        "&emsp;$1\\not\\to X_{i,j}\\: si\\: Q_{i}=\\{P,V\\} \\land P,V \\in T_j $<br/>\n",
        "&emsp;$1\\not\\to X_{i,j}\\: si\\: Q_{i}=\\{V,S\\} \\land V,S \\in T_j $<br/>\n",
        "\n"
      ],
      "metadata": {
        "id": "8WCsN44pCaoo"
      }
    },
    {
      "cell_type": "markdown",
      "source": [
        "#Análisis\n",
        "- ¿Que complejidad tiene el problema?. Orden de complejidad y Contabilizar el espacio de soluciones"
      ],
      "metadata": {
        "id": "HZz52wOppp-U"
      }
    },
    {
      "cell_type": "markdown",
      "source": [
        "Determinar el orden de complejidad para este tipo de problemas puede resultar complejo debido a las diferentes restricciones que incluye. <br/>Si no tenemos en cuenta los roles, el número total de combinaciones para solamente un tribunal es ${n\\choose 3}$, siendo $n$ el número de profesores. Por lo tanto en nuestro caso, como $n=10$, tendríamos 120 combinaciones diferentes solo para un tribunal(si además contamos los roles, debemos tener en cuenta que para cada tribunal tendríamos $V_{10, 3}=720$ posibles opciones).\n",
        "<br/>Por lo tanto, para $k$ tribunales tendríamos ${n\\choose 3}^k$ combinaciones distintas. En nuestro caso como $k=15$ tendríamos $120^{15}$ combinaciones distintas para esos tribunales. Eso sin contar que tenemos varias opciones para las horas de los tribunales. En ese caso tendríamos ${35\\choose 15}*120^{15}$ opciones diferentes.\n",
        "\n",
        "Complejidad del problema: Exponencial (al menos $O({n\\choose 3}^k)$)<br/>\n",
        "Espacio de soluciones:${35\\choose 15}*{10\\choose 3}$ (o si incluimos las permutaciones entre roles, ${35\\choose 15}*V_{10, 3}$)"
      ],
      "metadata": {
        "id": "0ll3NNNnL6QA"
      }
    },
    {
      "cell_type": "markdown",
      "source": [
        "#Diseño\n",
        "- ¿Que técnica utilizo? ¿Por qué?"
      ],
      "metadata": {
        "id": "ixEJUwH_pv7M"
      }
    },
    {
      "cell_type": "markdown",
      "source": [
        "Debido a la inmensidad del espacio de soluciones, utilizar un algoritmo por fuerza bruta queda completamente descartado. También debemos descartar los algoritmos deterministas, ya que a medida que aumenta la dimensión también serían indeseables. <br/>\n",
        "Por ejemplo, podemos pensar en el problema de asignación de tareas de la AG2 en el que utilizamos ramificación y poda. Aquel algoritmo dejaba de ser deseable en una dimensión mucho menor de la que tiene el problema que tenemos entre manos.\n",
        "Por lo tanto la mejor opción para abarcar estre problema será la de utilizar un algoritmo heurístico. Podemos utilizar por ejemplo una implementación del recocido simulado."
      ],
      "metadata": {
        "id": "SZxbieL7QvSo"
      }
    },
    {
      "cell_type": "markdown",
      "source": [
        "# Implementación"
      ],
      "metadata": {
        "id": "QH4GguIYWhdJ"
      }
    },
    {
      "cell_type": "markdown",
      "source": [
        "## Funciones básicas"
      ],
      "metadata": {
        "id": "VseGdPpgWwLP"
      }
    },
    {
      "cell_type": "code",
      "source": [
        "import random\n",
        "import math\n",
        "import secrets\n",
        "import numpy as np"
      ],
      "metadata": {
        "id": "uE0B_TBe4EwU"
      },
      "execution_count": 112,
      "outputs": []
    },
    {
      "cell_type": "code",
      "source": [
        "#Respuesta\n",
        "availability = [\n",
        "  [0,1,1,1,0,1,1,1,0,1,1,1,1,1,1,1,0,0,1,0,1,0,1,1,1,1,1,1,1,1,1,1,1,0,0],\n",
        "  [1,1,1,1,0,0,0,0,1,1,1,1,0,0,1,0,0,1,1,1,0,1,1,1,1,1,1,1,1,1,1,1,1,1,1],\n",
        "  [0,0,1,1,0,1,1,1,1,1,0,0,1,1,1,1,1,1,1,1,1,1,0,1,1,1,0,1,0,1,1,0,1,0,1],\n",
        "  [1,0,1,0,1,1,0,1,0,0,1,1,1,1,0,0,1,1,1,1,1,1,0,1,1,0,1,1,1,1,1,1,1,1,0],\n",
        "  [1,1,0,1,0,1,1,1,1,1,0,1,1,1,1,0,1,1,0,1,1,0,1,1,1,0,1,1,1,0,1,1,1,1,0],\n",
        "  [1,1,1,1,1,0,0,1,1,1,1,1,1,1,1,1,0,0,1,1,1,1,1,1,0,0,1,1,1,1,1,0,1,0,1],\n",
        "  [0,1,1,1,1,1,1,1,1,0,1,1,0,1,0,0,1,1,0,0,1,1,0,0,0,0,1,1,1,1,1,1,1,0,1],\n",
        "  [1,1,1,1,1,0,0,1,1,0,1,1,1,0,1,1,1,0,0,1,1,0,1,1,1,1,1,1,0,1,1,1,0,1,0],\n",
        "  [1,0,1,1,0,1,0,0,1,1,1,1,1,1,1,1,0,0,0,1,1,1,1,1,1,1,1,0,1,0,1,1,1,1,1],\n",
        "  [1,1,0,1,1,0,1,1,0,0,0,0,0,1,1,1,0,0,1,1,1,1,0,0,1,1,1,1,1,1,1,0,0,0,1]\n",
        "]\n",
        "\n",
        "roles= [\n",
        "    [1,1,1],\n",
        "    [1,1,1],\n",
        "    [1,0,1],\n",
        "    [0,1,1],\n",
        "    [1,1,1],\n",
        "    [1,1,1],\n",
        "    [0,1,1],\n",
        "    [0,1,1],\n",
        "    [1,1,1],\n",
        "    [1,1,1]\n",
        "]\n"
      ],
      "metadata": {
        "id": "G6P3oDB8XKge"
      },
      "execution_count": 113,
      "outputs": []
    },
    {
      "cell_type": "code",
      "source": [
        "def get_role_availability(availability, roles, role_idx):\n",
        "  return [row if roles[i][role_idx] == 1 else [0] * len(row) for i, row in enumerate(availability)]\n",
        "\n",
        "def get_presidents_availability(availability, roles):\n",
        "  return get_role_availability(availability, roles, 0)\n",
        "\n",
        "def get_secretaries_availability(availability, roles):\n",
        "  return get_role_availability(availability, roles, 1)\n",
        "\n",
        "def get_vocals_availability(availability, roles):\n",
        "  return get_role_availability(availability, roles, 2)"
      ],
      "metadata": {
        "id": "Wkx_5Rya52AK"
      },
      "execution_count": 114,
      "outputs": []
    },
    {
      "cell_type": "code",
      "source": [
        "pres_avail =  get_presidents_availability(availability, roles)\n",
        "secr_avail =  get_secretaries_availability(availability, roles)\n",
        "vocal_avail =  get_vocals_availability(availability, roles)"
      ],
      "metadata": {
        "id": "C72FRj208pm5"
      },
      "execution_count": 115,
      "outputs": []
    },
    {
      "cell_type": "code",
      "source": [
        "def create_empty_solution():\n",
        "    matrix = [[0 for _ in range(35)] for _ in range(10)]\n",
        "    return matrix"
      ],
      "metadata": {
        "id": "qH1yLesRdDBF"
      },
      "execution_count": 116,
      "outputs": []
    },
    {
      "cell_type": "code",
      "source": [
        "def get_random_solution(pres_avail, secr_avail, vocal_avail):\n",
        "  possible_slots = [x for x in range(35)]\n",
        "  slots = []\n",
        "  solution = create_empty_solution()\n",
        "  for i in range(15):\n",
        "    slot_index = secrets.choice(possible_slots)\n",
        "    slots.append(slot_index)\n",
        "    possible_slots.remove(slot_index)\n",
        "\n",
        "    possible_proffesors = [x for x in range(10)]\n",
        "    president_index = get_random_professor(possible_proffesors, pres_avail, slot_index)\n",
        "    possible_proffesors.remove(president_index)\n",
        "    secretary_index = get_random_professor(possible_proffesors, secr_avail, slot_index)\n",
        "    possible_proffesors.remove(secretary_index)\n",
        "    vocal_index = get_random_professor(possible_proffesors, vocal_avail, slot_index)\n",
        "    possible_proffesors.remove(vocal_index)\n",
        "\n",
        "    solution[president_index][slot_index] = 1\n",
        "    solution[secretary_index][slot_index] = 1\n",
        "    solution[vocal_index][slot_index] = 1\n",
        "  return solution\n"
      ],
      "metadata": {
        "id": "qK1WLiOM4WB5"
      },
      "execution_count": 117,
      "outputs": []
    },
    {
      "cell_type": "code",
      "source": [
        "def max_dif_between_turns(turns):\n",
        "  turns_per_professor = []\n",
        "  for i in range(len(turns)):\n",
        "    turns_per_professor.append(num_professor_turns(turns, i))\n",
        "  max_value = max(turns_per_professor)\n",
        "  min_value = min(turns_per_professor)\n",
        "  return max_value-min_value"
      ],
      "metadata": {
        "id": "VOxXyDohIDFe"
      },
      "execution_count": 118,
      "outputs": []
    },
    {
      "cell_type": "code",
      "source": [
        "def get_random_professor(possible_professors, role_avail, time):\n",
        "  indexes = np.where(np.array(role_avail)[:, time] == 1)[0].tolist()\n",
        "  possible_professors = np.array(possible_professors)\n",
        "  intersection = np.intersect1d(possible_professors, indexes)\n",
        "  return secrets.choice(intersection)"
      ],
      "metadata": {
        "id": "Dv32Sn70_G4o"
      },
      "execution_count": 119,
      "outputs": []
    },
    {
      "cell_type": "code",
      "source": [
        "def is_available(profesor, time, availability_matrix):\n",
        "  return availability_matrix[profesor][time] == 1"
      ],
      "metadata": {
        "id": "GJFt9a5eWypU"
      },
      "execution_count": 120,
      "outputs": []
    },
    {
      "cell_type": "code",
      "source": [
        "def num_professor_turns(turns, professor):\n",
        "  return sum(turns[professor])"
      ],
      "metadata": {
        "id": "vS1ATCJgc0Jo"
      },
      "execution_count": 121,
      "outputs": []
    },
    {
      "cell_type": "code",
      "source": [
        "def get_professor_name(index):\n",
        "    mapping = {\n",
        "        0: 'RRD',\n",
        "        1: 'QYV',\n",
        "        2: 'LHL',\n",
        "        3: 'HLC',\n",
        "        4: 'MSB',\n",
        "        5: 'PMQ',\n",
        "        6: 'QWF',\n",
        "        7: 'EBB',\n",
        "        8: 'IOE',\n",
        "        9: 'IOA',\n",
        "    }\n",
        "    return mapping.get(index, \"Invalid input\")"
      ],
      "metadata": {
        "id": "FvXFYvsvaEm2"
      },
      "execution_count": 122,
      "outputs": []
    },
    {
      "cell_type": "markdown",
      "source": [
        "## Simulated annealing"
      ],
      "metadata": {
        "id": "0ZQgJeMp3xII"
      }
    },
    {
      "cell_type": "code",
      "source": [
        "def probability(T,d):\n",
        "  return random.random() <  math.exp( -1*d / T)\n",
        "\n",
        "def lower_temperatura(T):\n",
        "  return T*0.99"
      ],
      "metadata": {
        "id": "gV_VrXnO3zXJ"
      },
      "execution_count": 123,
      "outputs": []
    },
    {
      "cell_type": "code",
      "source": [
        "def recocido_simulado(temperature, availability, roles ):\n",
        "  pres_avail =  get_presidents_availability(availability, roles)\n",
        "  secr_avail =  get_secretaries_availability(availability, roles)\n",
        "  vocal_avail =  get_vocals_availability(availability, roles)\n",
        "\n",
        "  solucion_referencia = get_random_solution(pres_avail, secr_avail, vocal_avail)\n",
        "  distancia_referencia = max_dif_between_turns(solucion_referencia)\n",
        "\n",
        "  mejor_solucion = []\n",
        "  mejor_distancia = 10e100\n",
        "\n",
        "\n",
        "  N=0\n",
        "  while temperature > .0001:\n",
        "    N+=1\n",
        "    vecina = get_random_solution(pres_avail, secr_avail, vocal_avail)\n",
        "\n",
        "    distancia_vecina = max_dif_between_turns(vecina)\n",
        "\n",
        "    if distancia_vecina < mejor_distancia:\n",
        "        mejor_solucion = vecina\n",
        "        mejor_distancia = distancia_vecina\n",
        "\n",
        "    if distancia_vecina < distancia_referencia or probability(temperature, abs(distancia_referencia - distancia_vecina) ) :\n",
        "      solucion_referencia = vecina\n",
        "      distancia_referencia = distancia_vecina\n",
        "\n",
        "    temperature = lower_temperatura(temperature)\n",
        "  return mejor_solucion\n",
        "\n",
        "sol  = recocido_simulado(10000000, availability, roles)\n",
        "\n",
        "for x in sol:\n",
        "  print(x)"
      ],
      "metadata": {
        "colab": {
          "base_uri": "https://localhost:8080/"
        },
        "id": "ZMBRYlEZ39oT",
        "outputId": "4c86be6a-51c2-4ddd-ece2-12fa8b43cdfd"
      },
      "execution_count": 124,
      "outputs": [
        {
          "output_type": "stream",
          "name": "stdout",
          "text": [
            "[0, 0, 0, 0, 0, 0, 0, 0, 0, 0, 0, 0, 0, 0, 0, 0, 0, 0, 0, 0, 0, 0, 1, 1, 0, 0, 0, 1, 1, 0, 1, 0, 0, 0, 0]\n",
            "[1, 0, 0, 0, 0, 0, 0, 0, 0, 1, 0, 0, 0, 0, 0, 0, 0, 0, 0, 1, 0, 0, 0, 0, 0, 0, 0, 0, 0, 0, 1, 0, 0, 0, 0]\n",
            "[0, 0, 0, 0, 0, 0, 1, 0, 0, 0, 0, 0, 0, 0, 0, 0, 0, 1, 0, 0, 1, 1, 0, 0, 0, 0, 0, 0, 0, 0, 0, 0, 0, 0, 0]\n",
            "[0, 0, 0, 0, 0, 0, 0, 0, 0, 0, 0, 0, 0, 0, 0, 0, 0, 1, 0, 0, 1, 1, 0, 0, 0, 0, 0, 0, 1, 0, 0, 0, 0, 0, 0]\n",
            "[1, 0, 0, 0, 0, 0, 0, 0, 1, 1, 0, 0, 0, 0, 0, 0, 0, 0, 0, 1, 0, 0, 0, 0, 0, 0, 0, 0, 0, 0, 0, 0, 0, 0, 0]\n",
            "[0, 0, 0, 0, 1, 0, 0, 0, 1, 0, 0, 0, 0, 0, 0, 0, 0, 0, 0, 0, 0, 0, 1, 0, 0, 0, 0, 1, 1, 0, 0, 0, 0, 0, 1]\n",
            "[0, 0, 0, 0, 1, 0, 1, 0, 1, 0, 0, 0, 0, 0, 0, 0, 0, 1, 0, 0, 1, 0, 0, 0, 0, 0, 0, 0, 0, 0, 0, 0, 0, 0, 0]\n",
            "[1, 0, 0, 0, 0, 0, 0, 0, 0, 0, 0, 0, 0, 0, 0, 0, 0, 0, 0, 0, 0, 0, 1, 1, 0, 0, 0, 1, 0, 0, 0, 0, 0, 0, 0]\n",
            "[0, 0, 0, 0, 0, 0, 0, 0, 0, 1, 0, 0, 0, 0, 0, 0, 0, 0, 0, 0, 0, 1, 0, 1, 0, 0, 0, 0, 0, 0, 1, 0, 0, 0, 1]\n",
            "[0, 0, 0, 0, 1, 0, 1, 0, 0, 0, 0, 0, 0, 0, 0, 0, 0, 0, 0, 1, 0, 0, 0, 0, 0, 0, 0, 0, 0, 0, 0, 0, 0, 0, 1]\n"
          ]
        }
      ]
    }
  ]
}