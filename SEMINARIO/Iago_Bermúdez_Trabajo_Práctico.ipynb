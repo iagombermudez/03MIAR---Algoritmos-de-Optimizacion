{
  "nbformat": 4,
  "nbformat_minor": 0,
  "metadata": {
    "colab": {
      "provenance": [],
      "include_colab_link": true
    },
    "kernelspec": {
      "name": "python3",
      "display_name": "Python 3"
    }
  },
  "cells": [
    {
      "cell_type": "markdown",
      "metadata": {
        "id": "view-in-github",
        "colab_type": "text"
      },
      "source": [
        "<a href=\"https://colab.research.google.com/github/iagombermudez/03MIAR---Algoritmos-de-Optimizacion/blob/main/SEMINARIO/Iago_Berm%C3%BAdez_Trabajo_Pr%C3%A1ctico.ipynb\" target=\"_parent\"><img src=\"https://colab.research.google.com/assets/colab-badge.svg\" alt=\"Open In Colab\"/></a>"
      ]
    },
    {
      "cell_type": "markdown",
      "metadata": {
        "id": "hVbXYX-RfPWh"
      },
      "source": [
        "# Algoritmos de optimización - Trabajo Práctico<br>\n",
        "Nombre y Apellidos: Iago Bermúdez Milleiro  <br>\n",
        "Url: https://github.com/iagombermudez/03MIAR---Algoritmos-de-Optimizacion/tree/main/SEMINARIO<br>\n",
        "Google Colab: https://colab.research.google.com/drive/1CPaxpXDBsSf5cAArmrKsyVr4UwRHoSDS?usp=sharing <br>\n",
        "Problema: Configuración de Tribunales\n",
        "\n",
        "Descripción del problema:\n",
        "\n",
        "Se precisa configurar tribunales de evaluación para un grupo de 15 alumnos que desean presentar su Trabajo Fin de Máster (TFM).<br/>\n",
        "- Cada tribunal está compuesto por tres profesores, cada uno desempeñando uno de los siguientes roles:\n",
        "  - Presidente\n",
        "  - Secretario\n",
        "  - Vocal\n",
        "\n",
        "- Los profesores han indicado su disponibilidad horaria para participar en los tribunales de 15h a 21h durante la semana del 15 al 19 de abril.\n",
        "- Hay 15 alumnos, por lo que se deben configurar 15 tribunales buscando la configuración más equilibrada posible en cuanto a la cantidad de tribunales asignados a cada profesor, es decir, evitando que un profesor tenga muchos tribunales y otros pocos.<br/>\n",
        "- Obviamente ningún profesor puede asistir a dos tribunales a la misma fecha/hora y no puede ser convocado a un tribunal al que no tiene disponibilidad.\n",
        "\n",
        "\n",
        "\n",
        "\n",
        "\n",
        "\n",
        "\n",
        "\n",
        "                                        "
      ]
    },
    {
      "cell_type": "markdown",
      "source": [
        "#Modelo\n",
        "- ¿Como represento el espacio de soluciones?\n",
        "- ¿Cual es la función objetivo?\n",
        "- ¿Como implemento las restricciones?"
      ],
      "metadata": {
        "id": "Sbo9IqQtpaHZ"
      }
    },
    {
      "cell_type": "markdown",
      "source": [
        "El espacio de soluciones se puede representar como el conjunto de todas las variaciones de los miembros de los tribunales. Aunque el problema no tiene como objetivo conseguir un equilibrio entre roles, se deben tener en cuenta las distintas permutaciones que los profesores puedan tener. Por lo tanto un tribunal compuesto por $\\{RRD, QYV, MSB\\}$ devolvería el mismo coste que otro compuesto por $\\{QYV, MSB, RRD\\}$ pero no sería la misma solución parcial, ya que los roles difieren y nos interesa conocer que rol tendrá cada profesor."
      ],
      "metadata": {
        "id": "67p_vszBposu"
      }
    },
    {
      "cell_type": "markdown",
      "source": [
        "La función objetivo es minimizar la diferencia de las asignaciones de los profesores a los tribunales. Por lo tanto, si tenemos que el conjunto de todas las asignaciones a cada profesor es $X$, entonces la función objetivo sería:<br/>\n",
        "$Min (Max(X) - Min(X))$<br/>"
      ],
      "metadata": {
        "id": "JzjFi1dKAFqx"
      }
    },
    {
      "cell_type": "markdown",
      "source": [
        "Teniendo en cuenta que<br/>\n",
        "$X_{i}$ es el conjunto de asignaciones a un profesor donde $X_{i,j} = 1$ indica la asistencia del profesor y $X_{i,j} = 0$ lo contrario\n",
        "<br/>$T_{t}$ es el conjunto de roles de un tribunal\n",
        "<br/>$A_{i}$ es el conjunto de disponibilidad del profesor, donde $A_{i,j} = 1$ indica la disponibilidad del profesor y $A_{i,j} = 0$ lo contrario\n",
        "<br/>$Q_i$ es el conjunto de roles de un profesor, donde las opciones pueden ser $P$,$S$ o $V$\n",
        "<br/>Las restricciones del problema serían:<br/>\n",
        "&emsp;$X_{i,j}\\neq1\\: si \\: A_{i,j}=0$<br/>\n",
        "&emsp;$1\\not\\to X_{i,j}\\: si\\: X_{i,j}=1$<br/>\n",
        "&emsp;$1\\not\\to X_{i,j}\\: si\\:|T_j|=3$<br/>\n",
        "&emsp;$X_{i,j}=1\\lor X_{i,j}=0$<br/>\n",
        "&emsp;$A_{i,j}=1\\lor A_{i,j}=0$<br/>\n",
        "&emsp;$|X_{i}|=|A_{i}|$<br/>\n",
        "&emsp;$|Q_{i}|>=1$<br/>\n",
        "&emsp;$|Q_{i}|<=3$<br/>\n",
        "&emsp;$1\\not\\to X_{i,j}\\: si\\: Q_{i}=\\{P\\} \\land P \\in T_j $<br/>\n",
        "&emsp;$1\\not\\to X_{i,j}\\: si\\: Q_{i}=\\{S\\} \\land S \\in T_j $<br/>\n",
        "&emsp;$1\\not\\to X_{i,j}\\: si\\: Q_{i}=\\{V\\} \\land V \\in T_j $<br/>\n",
        "&emsp;$1\\not\\to X_{i,j}\\: si\\: Q_{i}=\\{P,S\\} \\land P,S \\in T_j $<br/>\n",
        "&emsp;$1\\not\\to X_{i,j}\\: si\\: Q_{i}=\\{P,V\\} \\land P,V \\in T_j $<br/>\n",
        "&emsp;$1\\not\\to X_{i,j}\\: si\\: Q_{i}=\\{V,S\\} \\land V,S \\in T_j $<br/>\n",
        "\n"
      ],
      "metadata": {
        "id": "8WCsN44pCaoo"
      }
    },
    {
      "cell_type": "markdown",
      "source": [
        "#Análisis\n",
        "- ¿Que complejidad tiene el problema?. Orden de complejidad y Contabilizar el espacio de soluciones"
      ],
      "metadata": {
        "id": "HZz52wOppp-U"
      }
    },
    {
      "cell_type": "markdown",
      "source": [
        "Determinar el orden de complejidad para este tipo de problemas puede resultar difícil debido a las diferentes restricciones que incluye. <br/>Si tenemos en cuenta los roles, el número total de variaciones para solamente un tribunal es $V_{n, 3}$, siendo $n$ el número de profesores. Por lo tanto en nuestro caso, como $n=10$, tendríamos 720 variaciones diferentes solo para un tribunal.\n",
        "<br/>Por lo tanto, para $k$ tribunales tendríamos $(V_{10, 3})^k$ combinaciones distintas. En nuestro caso como $k=15$ tendríamos $720^{15}$ combinaciones distintas para esos tribunales. Eso sin contar que tenemos varias opciones para las horas de los tribunales. En ese caso tendríamos ${35\\choose 15}*720^{15}$ opciones diferentes.\n",
        "\n",
        "Complejidad del problema: $O(n^k)$<br/>\n",
        "Espacio de soluciones: ${35\\choose 15}*(V_{10, 3})^7$"
      ],
      "metadata": {
        "id": "0ll3NNNnL6QA"
      }
    },
    {
      "cell_type": "markdown",
      "source": [
        "#Diseño\n",
        "- ¿Que técnica utilizo? ¿Por qué?"
      ],
      "metadata": {
        "id": "ixEJUwH_pv7M"
      }
    },
    {
      "cell_type": "markdown",
      "source": [
        "Debido a la inmensidad del espacio de soluciones, utilizar un algoritmo por fuerza bruta queda completamente descartado. También debemos descartar los algoritmos deterministas, ya que a medida que aumenta la dimensión también serían indeseables. <br/>\n",
        "Por ejemplo, podemos pensar en el problema de asignación de tareas de la AG2 en el que utilizamos ramificación y poda. Aquel algoritmo dejaba de ser deseable en una dimensión mucho menor de la que tiene el problema que tenemos entre manos.\n",
        "Por lo tanto la mejor opción para abarcar este problema será la de utilizar un algoritmo heurístico como el recocido simulado. Utilizar esta técnica nos aporta además otras ventajas como la posibilidad de escapar mínimos locales."
      ],
      "metadata": {
        "id": "SZxbieL7QvSo"
      }
    },
    {
      "cell_type": "markdown",
      "source": [
        "# Implementación"
      ],
      "metadata": {
        "id": "QH4GguIYWhdJ"
      }
    },
    {
      "cell_type": "markdown",
      "source": [
        "## Funciones básicas"
      ],
      "metadata": {
        "id": "VseGdPpgWwLP"
      }
    },
    {
      "cell_type": "code",
      "source": [
        "import random\n",
        "import math\n",
        "import secrets\n",
        "import numpy as np"
      ],
      "metadata": {
        "id": "uE0B_TBe4EwU"
      },
      "execution_count": 27,
      "outputs": []
    },
    {
      "cell_type": "markdown",
      "source": [
        "Para representar la disponibilidad de los profesores, se utilizará una matrix MxN, donde las filas representan a cada profesor y las columnas representan la disponibilidad en un turno.<br/>\n",
        "De forma similar, representamos los roles como una matriz donde las filas son los profesores y las columnas los roles. La primera columna representa el rol de presidente, la segunda el de secretario y la tercera el de vocal."
      ],
      "metadata": {
        "id": "jCFH4D3sG09d"
      }
    },
    {
      "cell_type": "code",
      "source": [
        "PRESIDENT = 'P'\n",
        "SECRETARY = 'S'\n",
        "VOCAL = 'V'\n",
        "\n",
        "availability = [\n",
        "  [0,1,1,1,0,1,1,1,0,1,1,1,1,1,1,1,0,0,1,0,1,0,1,1,1,1,1,1,1,1,1,1,1,0,0],\n",
        "  [1,1,1,1,0,0,0,0,1,1,1,1,0,0,1,0,0,1,1,1,0,1,1,1,1,1,1,1,1,1,1,1,1,1,1],\n",
        "  [0,0,1,1,0,1,1,1,1,1,0,0,1,1,1,1,1,1,1,1,1,1,0,1,1,1,0,1,0,1,1,0,1,0,1],\n",
        "  [1,0,1,0,1,1,0,1,0,0,1,1,1,1,0,0,1,1,1,1,1,1,0,1,1,0,1,1,1,1,1,1,1,1,0],\n",
        "  [1,1,0,1,0,1,1,1,1,1,0,1,1,1,1,0,1,1,0,1,1,0,1,1,1,0,1,1,1,0,1,1,1,1,0],\n",
        "  [1,1,1,1,1,0,0,1,1,1,1,1,1,1,1,1,0,0,1,1,1,1,1,1,0,0,1,1,1,1,1,0,1,0,1],\n",
        "  [0,1,1,1,1,1,1,1,1,0,1,1,0,1,0,0,1,1,0,0,1,1,0,0,0,0,1,1,1,1,1,1,1,0,1],\n",
        "  [1,1,1,1,1,0,0,1,1,0,1,1,1,0,1,1,1,0,0,1,1,0,1,1,1,1,1,1,0,1,1,1,0,1,0],\n",
        "  [1,0,1,1,0,1,0,0,1,1,1,1,1,1,1,1,0,0,0,1,1,1,1,1,1,1,1,0,1,0,1,1,1,1,1],\n",
        "  [1,1,0,1,1,0,1,1,0,0,0,0,0,1,1,1,0,0,1,1,1,1,0,0,1,1,1,1,1,1,1,0,0,0,1]\n",
        "]\n",
        "\n",
        "roles= [\n",
        "    [1,1,1],\n",
        "    [1,1,1],\n",
        "    [1,0,1],\n",
        "    [0,1,1],\n",
        "    [1,1,1],\n",
        "    [1,1,1],\n",
        "    [0,1,1],\n",
        "    [0,1,1],\n",
        "    [1,1,1],\n",
        "    [1,1,1]\n",
        "]\n"
      ],
      "metadata": {
        "id": "G6P3oDB8XKge"
      },
      "execution_count": 28,
      "outputs": []
    },
    {
      "cell_type": "markdown",
      "source": [
        "El siguiente trozo de código se utilizará más adelante para visualizar la solución. La solución que devuelve el algoritmo de recocido simulado no es sencilla de entender, debido a que se trata de una matriz con 1s y 0s y sin nombres."
      ],
      "metadata": {
        "id": "q-jlgctlHuPU"
      }
    },
    {
      "cell_type": "code",
      "source": [
        "def print_solution(solution):\n",
        "  num_tribunal = 1\n",
        "  for i in range(len(solution[0])):\n",
        "    if is_turn_time(solution, i):\n",
        "      date = 15 + i // 7\n",
        "      time = 15 + i % 7\n",
        "      professors = [get_professor_name(p) for p in get_professors_in_turn(solution, i)]\n",
        "      print(f\"\"\"\n",
        "Turno {num_tribunal} - Fecha {date}/X {time}:00\n",
        "Presidente: {professors[0]}\n",
        "Secretario: {professors[1]}\n",
        "Vocal: {professors[2]}\n",
        "      \"\"\")\n",
        "      num_tribunal += 1\n",
        "  print('----------------------------')\n",
        "  print('Nº de turnos por profesor')\n",
        "  for i in range(len(solution)):\n",
        "    professor = get_professor_name(i)\n",
        "    turns = num_professor_turns(solution, i)\n",
        "    print(f'{professor}: {turns}')\n",
        "\n",
        "def is_turn_time(solution, i):\n",
        "   return sum(1 for row in solution if row[i] != 0) == 3\n",
        "\n",
        "def get_professors_in_turn(solution, i):\n",
        "    for idx, row in enumerate(solution):\n",
        "        if row[i] == 'P':\n",
        "            p_index = idx\n",
        "        elif row[i] == 'S':\n",
        "            s_index = idx\n",
        "        elif row[i] == 'V':\n",
        "            v_index = idx\n",
        "\n",
        "    return [p_index, s_index, v_index]\n",
        "\n",
        "def get_professor_name(index):\n",
        "    mapping = {\n",
        "        0: 'RRD',\n",
        "        1: 'QYV',\n",
        "        2: 'LHL',\n",
        "        3: 'HLC',\n",
        "        4: 'MSB',\n",
        "        5: 'PMQ',\n",
        "        6: 'QWF',\n",
        "        7: 'EBB',\n",
        "        8: 'IOE',\n",
        "        9: 'IOA',\n",
        "    }\n",
        "    return mapping.get(index, \"Invalid input\")"
      ],
      "metadata": {
        "id": "hvBmx7Hr4t1C"
      },
      "execution_count": 29,
      "outputs": []
    },
    {
      "cell_type": "code",
      "source": [
        "def get_role_availability(availability, roles, role_idx):\n",
        "  return [row if roles[i][role_idx] == 1 else [0] * len(row) for i, row in enumerate(availability)]\n",
        "\n",
        "def get_presidents_availability(availability, roles):\n",
        "  return get_role_availability(availability, roles, 0)\n",
        "\n",
        "def get_secretaries_availability(availability, roles):\n",
        "  return get_role_availability(availability, roles, 1)\n",
        "\n",
        "def get_vocals_availability(availability, roles):\n",
        "  return get_role_availability(availability, roles, 2)"
      ],
      "metadata": {
        "id": "Wkx_5Rya52AK"
      },
      "execution_count": 30,
      "outputs": []
    },
    {
      "cell_type": "markdown",
      "source": [
        "Existen varias formas de seleccionar una solución para el recocido simulado, pero experimentando con una solución aleatoria, el algoritmo suele obtener buenos resultados. <br/>\n",
        "La siguiente función se podría modificar si el problema tuviera más restricciones como la búsqueda de una mayor igualdad entre roles."
      ],
      "metadata": {
        "id": "ExeJmwOHILdF"
      }
    },
    {
      "cell_type": "code",
      "source": [
        "def get_random_solution(pres_avail, secr_avail, vocal_avail):\n",
        "  possible_slots = [x for x in range(35)]\n",
        "  slots = []\n",
        "  solution = create_empty_solution()\n",
        "  for i in range(15):\n",
        "    slot_index = secrets.choice(possible_slots)\n",
        "    slots.append(slot_index)\n",
        "    possible_slots.remove(slot_index)\n",
        "\n",
        "    possible_proffesors = [x for x in range(10)]\n",
        "    president_index = get_random_professor(possible_proffesors, pres_avail, slot_index)\n",
        "    possible_proffesors.remove(president_index)\n",
        "    secretary_index = get_random_professor(possible_proffesors, secr_avail, slot_index)\n",
        "    possible_proffesors.remove(secretary_index)\n",
        "    vocal_index = get_random_professor(possible_proffesors, vocal_avail, slot_index)\n",
        "    possible_proffesors.remove(vocal_index)\n",
        "\n",
        "    solution[president_index][slot_index] = PRESIDENT\n",
        "    solution[secretary_index][slot_index] = SECRETARY\n",
        "    solution[vocal_index][slot_index] = VOCAL\n",
        "  return solution\n",
        "\n",
        "def create_empty_solution():\n",
        "    matrix = [[0 for _ in range(35)] for _ in range(10)]\n",
        "    return matrix"
      ],
      "metadata": {
        "id": "qK1WLiOM4WB5"
      },
      "execution_count": 31,
      "outputs": []
    },
    {
      "cell_type": "code",
      "source": [
        "def max_dif_between_turns(turns):\n",
        "  turns_per_professor = []\n",
        "  for i in range(len(turns)):\n",
        "    turns_per_professor.append(num_professor_turns(turns, i))\n",
        "  max_value = max(turns_per_professor)\n",
        "  min_value = min(turns_per_professor)\n",
        "  return max_value-min_value"
      ],
      "metadata": {
        "id": "VOxXyDohIDFe"
      },
      "execution_count": 32,
      "outputs": []
    },
    {
      "cell_type": "code",
      "source": [
        "def get_random_professor(possible_professors, role_avail, time):\n",
        "  indexes = np.where(np.array(role_avail)[:, time] == 1)[0].tolist()\n",
        "  possible_professors = np.array(possible_professors)\n",
        "  intersection = np.intersect1d(possible_professors, indexes)\n",
        "  return secrets.choice(intersection)"
      ],
      "metadata": {
        "id": "Dv32Sn70_G4o"
      },
      "execution_count": 33,
      "outputs": []
    },
    {
      "cell_type": "code",
      "source": [
        "def is_available(profesor, time, availability_matrix):\n",
        "  return availability_matrix[profesor][time] == 1"
      ],
      "metadata": {
        "id": "GJFt9a5eWypU"
      },
      "execution_count": 34,
      "outputs": []
    },
    {
      "cell_type": "code",
      "source": [
        "def num_professor_turns(turns, professor):\n",
        "  return sum(1 for turn in turns[professor] if turn != 0)"
      ],
      "metadata": {
        "id": "vS1ATCJgc0Jo"
      },
      "execution_count": 35,
      "outputs": []
    },
    {
      "cell_type": "code",
      "source": [],
      "metadata": {
        "id": "FvXFYvsvaEm2"
      },
      "execution_count": 35,
      "outputs": []
    },
    {
      "cell_type": "markdown",
      "source": [
        "## Simulated annealing"
      ],
      "metadata": {
        "id": "0ZQgJeMp3xII"
      }
    },
    {
      "cell_type": "code",
      "source": [
        "def probability(T,d):\n",
        "  return random.random() <  math.exp( -1*d / T)\n",
        "\n",
        "def lower_temperatura(T):\n",
        "  return T*0.99"
      ],
      "metadata": {
        "id": "gV_VrXnO3zXJ"
      },
      "execution_count": 36,
      "outputs": []
    },
    {
      "cell_type": "code",
      "source": [
        "def simmulated_annealing(temperature, availability, roles ):\n",
        "  pres_avail =  get_presidents_availability(availability, roles)\n",
        "  secr_avail =  get_secretaries_availability(availability, roles)\n",
        "  vocal_avail =  get_vocals_availability(availability, roles)\n",
        "\n",
        "  solucion_referencia = get_random_solution(pres_avail, secr_avail, vocal_avail)\n",
        "  distancia_referencia = max_dif_between_turns(solucion_referencia)\n",
        "\n",
        "  mejor_solucion = []\n",
        "  mejor_distancia = 10e100\n",
        "\n",
        "\n",
        "  N=0\n",
        "  while temperature > .0001:\n",
        "    N+=1\n",
        "    vecina = get_random_solution(pres_avail, secr_avail, vocal_avail)\n",
        "\n",
        "    distancia_vecina = max_dif_between_turns(vecina)\n",
        "\n",
        "    if distancia_vecina < mejor_distancia:\n",
        "        mejor_solucion = vecina\n",
        "        mejor_distancia = distancia_vecina\n",
        "\n",
        "    if distancia_vecina < distancia_referencia or probability(temperature, abs(distancia_referencia - distancia_vecina) ) :\n",
        "      solucion_referencia = vecina\n",
        "      distancia_referencia = distancia_vecina\n",
        "\n",
        "    temperature = lower_temperatura(temperature)\n",
        "  return mejor_solucion\n",
        "\n",
        "sol  = simmulated_annealing(10000, availability, roles)\n",
        "print_solution(sol)"
      ],
      "metadata": {
        "colab": {
          "base_uri": "https://localhost:8080/"
        },
        "id": "ZMBRYlEZ39oT",
        "outputId": "80440647-be2e-4d40-9ee5-f7e29e7300b1"
      },
      "execution_count": 38,
      "outputs": [
        {
          "output_type": "stream",
          "name": "stdout",
          "text": [
            "\n",
            "Turno 1 - Fecha 15/X 17:00\n",
            "Presidente: PMQ\n",
            "Secretario: QYV\n",
            "Vocal: QWF\n",
            "      \n",
            "\n",
            "Turno 2 - Fecha 15/X 20:00\n",
            "Presidente: RRD\n",
            "Secretario: MSB\n",
            "Vocal: HLC\n",
            "      \n",
            "\n",
            "Turno 3 - Fecha 15/X 21:00\n",
            "Presidente: RRD\n",
            "Secretario: IOA\n",
            "Vocal: MSB\n",
            "      \n",
            "\n",
            "Turno 4 - Fecha 16/X 16:00\n",
            "Presidente: PMQ\n",
            "Secretario: EBB\n",
            "Vocal: IOE\n",
            "      \n",
            "\n",
            "Turno 5 - Fecha 16/X 17:00\n",
            "Presidente: QYV\n",
            "Secretario: PMQ\n",
            "Vocal: IOE\n",
            "      \n",
            "\n",
            "Turno 6 - Fecha 16/X 19:00\n",
            "Presidente: MSB\n",
            "Secretario: QYV\n",
            "Vocal: EBB\n",
            "      \n",
            "\n",
            "Turno 7 - Fecha 16/X 20:00\n",
            "Presidente: LHL\n",
            "Secretario: EBB\n",
            "Vocal: MSB\n",
            "      \n",
            "\n",
            "Turno 8 - Fecha 16/X 21:00\n",
            "Presidente: IOA\n",
            "Secretario: HLC\n",
            "Vocal: QWF\n",
            "      \n",
            "\n",
            "Turno 9 - Fecha 17/X 15:00\n",
            "Presidente: LHL\n",
            "Secretario: IOA\n",
            "Vocal: IOE\n",
            "      \n",
            "\n",
            "Turno 10 - Fecha 17/X 18:00\n",
            "Presidente: LHL\n",
            "Secretario: QWF\n",
            "Vocal: MSB\n",
            "      \n",
            "\n",
            "Turno 11 - Fecha 17/X 19:00\n",
            "Presidente: QYV\n",
            "Secretario: PMQ\n",
            "Vocal: RRD\n",
            "      \n",
            "\n",
            "Turno 12 - Fecha 17/X 21:00\n",
            "Presidente: PMQ\n",
            "Secretario: QWF\n",
            "Vocal: HLC\n",
            "      \n",
            "\n",
            "Turno 13 - Fecha 18/X 19:00\n",
            "Presidente: IOE\n",
            "Secretario: IOA\n",
            "Vocal: LHL\n",
            "      \n",
            "\n",
            "Turno 14 - Fecha 19/X 16:00\n",
            "Presidente: PMQ\n",
            "Secretario: RRD\n",
            "Vocal: QWF\n",
            "      \n",
            "\n",
            "Turno 15 - Fecha 19/X 20:00\n",
            "Presidente: QYV\n",
            "Secretario: HLC\n",
            "Vocal: EBB\n",
            "      \n",
            "----------------------------\n",
            "Nº de turnos por profesor\n",
            "RRD: 4\n",
            "QYV: 5\n",
            "LHL: 4\n",
            "HLC: 4\n",
            "MSB: 5\n",
            "PMQ: 6\n",
            "QWF: 5\n",
            "EBB: 4\n",
            "IOE: 4\n",
            "IOA: 4\n"
          ]
        }
      ]
    },
    {
      "cell_type": "markdown",
      "source": [
        "<br/>\n",
        "<br/><br/><br/><br/><br/><br/><br/><br/><br/><br/><br/><br/><br/><br/><br/><br/><br/><br/><br/><br/><br/><br/><br/><br/><br/><br/><br/><br/><br/><br/><br/><br/><br/><br/><br/><br/><br/><br/><br/><br/><br/><br/><br/><br/><br/><br/><br/><br/><br/><br/><br/><br/><br/><br/><br/><br/><br/><br/><br/><br/><br/><br/><br/><br/><br/><br/><br/><br/><br/><br/><br/><br/><br/><br/><br/><br/><br/><br/><br/><br/><br/><br/><br/><br/><br/><br/><br/>"
      ],
      "metadata": {
        "id": "JOK3_sB5PcA4"
      }
    },
    {
      "cell_type": "code",
      "source": [],
      "metadata": {
        "id": "yZhytlZ4Pezc"
      },
      "execution_count": 37,
      "outputs": []
    }
  ]
}