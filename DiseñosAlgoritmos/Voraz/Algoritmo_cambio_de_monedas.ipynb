{
  "nbformat": 4,
  "nbformat_minor": 0,
  "metadata": {
    "colab": {
      "provenance": [],
      "authorship_tag": "ABX9TyO3YqcnDq0Fw0qJYvipGs2N",
      "include_colab_link": true
    },
    "kernelspec": {
      "name": "python3",
      "display_name": "Python 3"
    },
    "language_info": {
      "name": "python"
    }
  },
  "cells": [
    {
      "cell_type": "markdown",
      "metadata": {
        "id": "view-in-github",
        "colab_type": "text"
      },
      "source": [
        "<a href=\"https://colab.research.google.com/github/iagombermudez/03MIAR---Algoritmos-de-Optimizacion/blob/main/Dise%C3%B1osAlgoritmos/Voraz/Algoritmo_cambio_de_monedas.ipynb\" target=\"_parent\"><img src=\"https://colab.research.google.com/assets/colab-badge.svg\" alt=\"Open In Colab\"/></a>"
      ]
    },
    {
      "cell_type": "markdown",
      "source": [
        "# Algoritmo voraz: Cambio de monedas"
      ],
      "metadata": {
        "id": "6J7CHPUGX2aB"
      }
    },
    {
      "cell_type": "markdown",
      "source": [
        "Dado un sistema monetario (1,v1,v2,v3,… vn) descomponer cualquier cantidad C de manera\n",
        "que usemos el menor numero de monedas.\n",
        "- Elementos:\n",
        "  - Conjunto de candidatos: Todas las combinaciones posibles de obtener C\n",
        "  - Función de selección en cada etapa, tomar tantas monedas como sea posible del\n",
        "mayor valor, sin pasarse (voracidad)\n",
        "  - Función de factibilidad es el valor alcanzado con la suma de todas las monedas\n",
        "elegidas hasta el momento\n",
        "  - Función objetivo es la cantidad total de monedas(función a minimizar)\n",
        "  - Criterio de solución final es la similar(en este caso) que la función de\n",
        "factibilidad pero que debe coincidir con C."
      ],
      "metadata": {
        "id": "AY_PkjIBYekW"
      }
    },
    {
      "cell_type": "code",
      "source": [
        "def selection_function(value, current_coin):\n",
        "  coin_ammount = 0\n",
        "  while value >= current_coin:\n",
        "    coin_ammount += 1\n",
        "    value -= current_coin\n",
        "  return {current_coin: coin_ammount} if coin_ammount > 0 else {}"
      ],
      "metadata": {
        "id": "gNAy-w5Qmme-"
      },
      "execution_count": 25,
      "outputs": []
    },
    {
      "cell_type": "code",
      "source": [
        "def feasibility_function(total_coins):\n",
        "  total = 0\n",
        "  for coin, ammount in total_coins.items():\n",
        "    total += coin*ammount\n",
        "  return total"
      ],
      "metadata": {
        "id": "LvaEqNlIZF_X"
      },
      "execution_count": 11,
      "outputs": []
    },
    {
      "cell_type": "code",
      "source": [
        "def goal_function(current, total):\n",
        "  return feasibility_function(current) == total"
      ],
      "metadata": {
        "id": "DtZ9pUKWqHBJ"
      },
      "execution_count": 13,
      "outputs": []
    },
    {
      "cell_type": "code",
      "source": [
        "def coin_returner(original_ammount, available_coins):\n",
        "  coins = {} # Step 1: Create solution set\n",
        "  current_ammount = original_ammount\n",
        "  # Step 2: Loop and check if a solution has been found\n",
        "  while not goal_function(coins, original_ammount) and len(available_coins) > 0:\n",
        "    # Step 3: Select a new partial solution candidate to add the final solution\n",
        "    new_coins = selection_function(current_ammount, available_coins[-1])\n",
        "    available_coins.pop()\n",
        "    # Step 4: Check if the partial solution is feasable\n",
        "    value_so_far = feasibility_function({**coins, **new_coins})\n",
        "    if value_so_far <= original_ammount:\n",
        "      # Step 5: Add the partial solution to the solution if it is feasable\n",
        "      coins = {**coins, **new_coins}\n",
        "      current_ammount = original_ammount - value_so_far\n",
        "  if goal_function(coins, original_ammount):\n",
        "    return coins\n",
        "  else:\n",
        "    return 'A solution was not found'\n"
      ],
      "metadata": {
        "id": "p1wbmdWVX7mD"
      },
      "execution_count": 60,
      "outputs": []
    },
    {
      "cell_type": "code",
      "source": [
        "coin_returner(0.75, [0.25, 0.5, 1, 2, 4])"
      ],
      "metadata": {
        "colab": {
          "base_uri": "https://localhost:8080/"
        },
        "id": "PUpGzzcYsVPS",
        "outputId": "753004bd-9269-4de7-c802-7dd1e01118e5"
      },
      "execution_count": 61,
      "outputs": [
        {
          "output_type": "execute_result",
          "data": {
            "text/plain": [
              "{0.5: 1, 0.25: 1}"
            ]
          },
          "metadata": {},
          "execution_count": 61
        }
      ]
    },
    {
      "cell_type": "code",
      "source": [
        "def devolver_cambio(cantidad, denominaciones):\n",
        "    denominaciones.sort(reverse=True)  # Ordenar las denominaciones de mayor a menor\n",
        "    resultado = []\n",
        "    for moneda in denominaciones:\n",
        "        while cantidad >= moneda:\n",
        "            cantidad -= moneda\n",
        "            resultado.append(moneda)\n",
        "    return resultado\n",
        "\n",
        "# Ejemplo de uso\n",
        "denominaciones = [1, 5, 10, 25]  # Sistema monetario, por ejemplo, en dólares o euros\n",
        "cantidad = 63  # Cantidad a descomponer\n",
        "cambio = devolver_cambio(cantidad, denominaciones)\n",
        "print(f\"Monedas para {cantidad}: {cambio}\")\n"
      ],
      "metadata": {
        "colab": {
          "base_uri": "https://localhost:8080/"
        },
        "id": "1bqna27Zt3Xx",
        "outputId": "f6902b01-df60-41f1-d7ba-4c0f51a5b28d"
      },
      "execution_count": 62,
      "outputs": [
        {
          "output_type": "stream",
          "name": "stdout",
          "text": [
            "Monedas para 63: [25, 25, 10, 1, 1, 1]\n"
          ]
        }
      ]
    },
    {
      "cell_type": "code",
      "source": [],
      "metadata": {
        "id": "fVkY80jmIH-k"
      },
      "execution_count": null,
      "outputs": []
    }
  ]
}